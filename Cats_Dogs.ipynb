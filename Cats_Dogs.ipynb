{
  "nbformat": 4,
  "nbformat_minor": 0,
  "metadata": {
    "colab": {
      "name": "Cats_Dogs.ipynb",
      "provenance": []
    },
    "kernelspec": {
      "name": "python3",
      "display_name": "Python 3"
    },
    "language_info": {
      "name": "python"
    },
    "accelerator": "GPU",
    "gpuClass": "standard"
  },
  "cells": [
    {
      "cell_type": "code",
      "execution_count": null,
      "metadata": {
        "id": "qa0uY5qRz4yY"
      },
      "outputs": [],
      "source": [
        "from google.colab import files\n",
        "files.upload()"
      ]
    },
    {
      "cell_type": "code",
      "source": [
        "!mkdir -p ~/.kaggle\n",
        "!cp kaggle.json ~/.kaggle/\n",
        "!chmod 600 ~/.kaggle/kaggle.json"
      ],
      "metadata": {
        "id": "RsKoJiR5z5hm"
      },
      "execution_count": 2,
      "outputs": []
    },
    {
      "cell_type": "code",
      "source": [
        "!kaggle competitions download -c dogs-vs-cats "
      ],
      "metadata": {
        "colab": {
          "base_uri": "https://localhost:8080/"
        },
        "id": "Vy9VjvKF0BSe",
        "outputId": "c7d4f6f9-d649-4473-b3c9-a85dafc9d0bf"
      },
      "execution_count": 3,
      "outputs": [
        {
          "output_type": "stream",
          "name": "stdout",
          "text": [
            "Downloading dogs-vs-cats.zip to /content\n",
            " 98% 795M/812M [00:05<00:00, 206MB/s]\n",
            "100% 812M/812M [00:05<00:00, 168MB/s]\n"
          ]
        }
      ]
    },
    {
      "cell_type": "code",
      "source": [
        "import zipfile\n",
        "zip_ref = zipfile.ZipFile('/content/dogs-vs-cats.zip', 'r')\n",
        "zip_ref.extractall('files')\n",
        "zip_ref.close()"
      ],
      "metadata": {
        "id": "-cLwLRWX0Fdh"
      },
      "execution_count": 4,
      "outputs": []
    },
    {
      "cell_type": "code",
      "source": [
        "import zipfile\n",
        "zip_ref = zipfile.ZipFile('/content/files/train.zip', 'r')\n",
        "zip_ref.extractall('files')\n",
        "zip_ref.close()"
      ],
      "metadata": {
        "id": "gr3rZOKK0UvS"
      },
      "execution_count": 6,
      "outputs": []
    },
    {
      "cell_type": "code",
      "source": [
        "import os , shutil\n",
        "import matplotlib.pyplot as plt"
      ],
      "metadata": {
        "id": "0JXbtuh70QIW"
      },
      "execution_count": 11,
      "outputs": []
    },
    {
      "cell_type": "code",
      "source": [
        "len(os.listdir(\"/content/files/train\"))"
      ],
      "metadata": {
        "colab": {
          "base_uri": "https://localhost:8080/"
        },
        "id": "iy0JJ2RV0_52",
        "outputId": "69c50672-ab40-4da4-f479-ef55ce364fa4"
      },
      "execution_count": 7,
      "outputs": [
        {
          "output_type": "execute_result",
          "data": {
            "text/plain": [
              "25000"
            ]
          },
          "metadata": {},
          "execution_count": 7
        }
      ]
    },
    {
      "cell_type": "markdown",
      "source": [
        "## Splitting the data "
      ],
      "metadata": {
        "id": "-jNxP9Ax9BPk"
      }
    },
    {
      "cell_type": "code",
      "source": [
        "train_dataset_dir = \"/content/files/train\"\n",
        "base_dir = '/content/files/data'\n",
        "os.mkdir(base_dir)\n",
        "\n",
        "train_dir = os.path.join(base_dir, 'train')\n",
        "os.mkdir(train_dir)\n",
        "validation_dir = os.path.join(base_dir, 'validation')\n",
        "os.mkdir(validation_dir)\n",
        "test_dir = os.path.join(base_dir, 'test')\n",
        "os.mkdir(test_dir)\n",
        "\n",
        "train_cats_dir = os.path.join(train_dir, 'cats')\n",
        "os.mkdir(train_cats_dir)\n",
        "\n",
        "train_dogs_dir = os.path.join(train_dir, 'dogs')\n",
        "os.mkdir(train_dogs_dir)\n",
        "\n",
        "validation_cats_dir = os.path.join(validation_dir, 'cats')\n",
        "os.mkdir(validation_cats_dir)\n",
        "\n",
        "validation_dogs_dir = os.path.join(validation_dir, 'dogs')\n",
        "os.mkdir(validation_dogs_dir)\n",
        "\n",
        "test_cats_dir = os.path.join(test_dir, 'cats')\n",
        "os.mkdir(test_cats_dir)\n",
        "\n",
        "test_dogs_dir = os.path.join(test_dir, 'dogs')\n",
        "os.mkdir(test_dogs_dir)\n",
        "\n",
        "#----------------------------------------------------------\n",
        "fnames = ['cat.{}.jpg'.format(i) for i in range(8000)]\n",
        "for fname in fnames:\n",
        "    src = os.path.join(train_dataset_dir, fname)\n",
        "    dst = os.path.join(train_cats_dir, fname)\n",
        "    shutil.copyfile(src, dst)\n",
        "\n",
        "\n",
        "fnames = ['cat.{}.jpg'.format(i) for i in range(8000,9000)]\n",
        "for fname in fnames:\n",
        "    src = os.path.join(train_dataset_dir, fname)\n",
        "    dst = os.path.join(validation_cats_dir, fname)\n",
        "    shutil.copyfile(src, dst)\n",
        "    \n",
        "fnames = ['cat.{}.jpg'.format(i) for i in range(9000, 10000)]\n",
        "for fname in fnames:\n",
        "    src = os.path.join(train_dataset_dir, fname)\n",
        "    dst = os.path.join(test_cats_dir, fname)\n",
        "    shutil.copyfile(src, dst)\n",
        "    \n",
        "fnames = ['dog.{}.jpg'.format(i) for i in range(8000)]\n",
        "for fname in fnames:\n",
        "    src = os.path.join(train_dataset_dir, fname)\n",
        "    dst = os.path.join(train_dogs_dir, fname)\n",
        "    shutil.copyfile(src, dst)\n",
        "    \n",
        "fnames = ['dog.{}.jpg'.format(i) for i in range(8000,9000)]\n",
        "for fname in fnames:\n",
        "    src = os.path.join(train_dataset_dir, fname)\n",
        "    dst = os.path.join(validation_dogs_dir, fname)\n",
        "    shutil.copyfile(src, dst)\n",
        "    \n",
        "fnames = ['dog.{}.jpg'.format(i) for i in range(9000,10000)]\n",
        "for fname in fnames:\n",
        "    src = os.path.join(train_dataset_dir, fname)\n",
        "    dst = os.path.join(test_dogs_dir, fname)\n",
        "    shutil.copyfile(src, dst)"
      ],
      "metadata": {
        "id": "Sra4J0Al0NQd"
      },
      "execution_count": 13,
      "outputs": []
    },
    {
      "cell_type": "code",
      "source": [
        "print('Train cats', len(os.listdir(train_cats_dir)))\n",
        "print('Test cats:', len(os.listdir(test_cats_dir)))\n",
        "print('Validation cats:', len(os.listdir(validation_cats_dir)))\n",
        "print('Train dogs:', len(os.listdir(train_dogs_dir)))\n",
        "print('Test dogs:', len(os.listdir(test_dogs_dir)))\n",
        "print('Validation:', len(os.listdir(validation_dogs_dir)))"
      ],
      "metadata": {
        "colab": {
          "base_uri": "https://localhost:8080/"
        },
        "id": "fo-OBMcm3zrE",
        "outputId": "54c3c3cd-8f8d-40b9-8931-ba2cf20a9be1"
      },
      "execution_count": 14,
      "outputs": [
        {
          "output_type": "stream",
          "name": "stdout",
          "text": [
            "Train cats 8000\n",
            "Test cats: 1000\n",
            "Validation cats: 1000\n",
            "Train dogs: 8000\n",
            "Test dogs: 1000\n",
            "Validation: 1000\n"
          ]
        }
      ]
    },
    {
      "cell_type": "markdown",
      "source": [
        "# Import"
      ],
      "metadata": {
        "id": "bDeOzS2d86Ok"
      }
    },
    {
      "cell_type": "code",
      "source": [
        "import numpy as np\n",
        "import matplotlib.pyplot as plt\n",
        "import tensorflow as tf\n",
        "import keras\n",
        "from tensorflow.keras import models, layers, optimizers, losses, metrics\n",
        "from tensorflow.keras.datasets import mnist\n",
        "from tensorflow.keras import optimizers\n",
        "from tensorflow.keras.utils import to_categorical"
      ],
      "metadata": {
        "id": "UKg4Gpmm4F_s"
      },
      "execution_count": 21,
      "outputs": []
    },
    {
      "cell_type": "markdown",
      "source": [
        "## Data Batches"
      ],
      "metadata": {
        "id": "lWP6asUe84Ic"
      }
    },
    {
      "cell_type": "code",
      "source": [
        "IMAGE_SIZE=(224,224)\n",
        "\n",
        "\n",
        "train_data=tf.keras.preprocessing.image_dataset_from_directory(\n",
        "    train_dir,\n",
        "    label_mode='binary',\n",
        "    image_size=IMAGE_SIZE\n",
        ")\n",
        "test_data=tf.keras.preprocessing.image_dataset_from_directory(\n",
        "    test_dir,\n",
        "    label_mode='binary',\n",
        "    image_size=IMAGE_SIZE,\n",
        "    shuffle=False\n",
        ")\n",
        "\n",
        "validation_data=tf.keras.preprocessing.image_dataset_from_directory(\n",
        "    validation_dir,\n",
        "    label_mode='binary',\n",
        "    image_size=IMAGE_SIZE,\n",
        "    shuffle=False\n",
        ")"
      ],
      "metadata": {
        "colab": {
          "base_uri": "https://localhost:8080/"
        },
        "id": "v8oyRcTX4GQd",
        "outputId": "f58f502c-e047-4265-bdf3-90894a4f52f8"
      },
      "execution_count": 27,
      "outputs": [
        {
          "output_type": "stream",
          "name": "stdout",
          "text": [
            "Found 16000 files belonging to 2 classes.\n",
            "Found 2000 files belonging to 2 classes.\n",
            "Found 2000 files belonging to 2 classes.\n"
          ]
        }
      ]
    },
    {
      "cell_type": "markdown",
      "source": [
        "## Data Augmentation Layer"
      ],
      "metadata": {
        "id": "4FW37NxB8bhD"
      }
    },
    {
      "cell_type": "code",
      "source": [
        "data_augmentation=keras.Sequential([\n",
        "    layers.RandomFlip('horizontal'),\n",
        "    layers.RandomHeight(0.2),\n",
        "    layers.RandomWidth(0.2),\n",
        "    layers.RandomRotation(0.2,fill_mode='nearest'),\n",
        "    layers.RandomZoom(0.2),\n",
        "    layers.RandomContrast(0.2)\n",
        "    # layers.Rescaling(scale=1.0/255)\n",
        "],name='Data_Augmentation_Layer')"
      ],
      "metadata": {
        "id": "YmOBTTX443kP"
      },
      "execution_count": 22,
      "outputs": []
    },
    {
      "cell_type": "markdown",
      "source": [
        "## Model"
      ],
      "metadata": {
        "id": "2hGHBnEl8jnE"
      }
    },
    {
      "cell_type": "code",
      "source": [
        "inputs=layers.Input(shape=(224,224,3),name='input_layer')\n",
        "\n",
        "base_model=keras.applications.efficientnet.EfficientNetB0(include_top=False)\n",
        "base_model.trainable=False\n",
        "\n",
        "x=data_augmentation(inputs)\n",
        "\n",
        "x=base_model(x,training=False)\n",
        "\n",
        "x=layers.GlobalAveragePooling2D(name='Global_Average_Pool_2D')(x)\n",
        "\n",
        "outputs=layers.Dense(1,activation='sigmoid',dtype='float32',name=\"Output_layer\")(x)\n",
        "\n",
        "model=keras.Model(inputs,outputs,name=\"model\")"
      ],
      "metadata": {
        "colab": {
          "base_uri": "https://localhost:8080/"
        },
        "id": "pz4KUKYS43_l",
        "outputId": "3d025d33-a9e4-4027-f189-3cf9dbcd5cb8"
      },
      "execution_count": 23,
      "outputs": [
        {
          "output_type": "stream",
          "name": "stdout",
          "text": [
            "Downloading data from https://storage.googleapis.com/keras-applications/efficientnetb0_notop.h5\n",
            "16711680/16705208 [==============================] - 0s 0us/step\n",
            "16719872/16705208 [==============================] - 0s 0us/step\n"
          ]
        }
      ]
    },
    {
      "cell_type": "markdown",
      "source": [
        "## Compile"
      ],
      "metadata": {
        "id": "jERwUdQC8mfj"
      }
    },
    {
      "cell_type": "code",
      "source": [
        "model.compile(optimizer='rmsprop',loss='binary_crossentropy',metrics=['accuracy'])"
      ],
      "metadata": {
        "id": "zvFveLvS5V4s"
      },
      "execution_count": 25,
      "outputs": []
    },
    {
      "cell_type": "code",
      "source": [
        "model.save_weights('initial_weights')"
      ],
      "metadata": {
        "id": "gvMb4z_85WGN"
      },
      "execution_count": 26,
      "outputs": []
    },
    {
      "cell_type": "markdown",
      "source": [
        "## Fit the model"
      ],
      "metadata": {
        "id": "YZeWkeI-8qGe"
      }
    },
    {
      "cell_type": "code",
      "source": [
        "EPOCHS=5\n",
        "history_of_model=model.fit(\n",
        "    train_data,\n",
        "    epochs=EPOCHS,\n",
        "    steps_per_epoch=int (0.2*len(train_data)),\n",
        "    validation_data=test_data,\n",
        "    validation_steps=len(test_data)\n",
        ")"
      ],
      "metadata": {
        "colab": {
          "base_uri": "https://localhost:8080/"
        },
        "id": "o8DbxxI65r_M",
        "outputId": "de3b0fc0-794f-4131-989f-4393add93a41"
      },
      "execution_count": 29,
      "outputs": [
        {
          "output_type": "stream",
          "name": "stdout",
          "text": [
            "Epoch 1/5\n",
            "100/100 [==============================] - 23s 230ms/step - loss: 0.0948 - accuracy: 0.9609 - val_loss: 0.0418 - val_accuracy: 0.9865\n",
            "Epoch 2/5\n",
            "100/100 [==============================] - 22s 219ms/step - loss: 0.0955 - accuracy: 0.9597 - val_loss: 0.0424 - val_accuracy: 0.9865\n",
            "Epoch 3/5\n",
            "100/100 [==============================] - 22s 219ms/step - loss: 0.0926 - accuracy: 0.9622 - val_loss: 0.0432 - val_accuracy: 0.9860\n",
            "Epoch 4/5\n",
            "100/100 [==============================] - 22s 217ms/step - loss: 0.0835 - accuracy: 0.9659 - val_loss: 0.0402 - val_accuracy: 0.9865\n",
            "Epoch 5/5\n",
            "100/100 [==============================] - 22s 213ms/step - loss: 0.0901 - accuracy: 0.9641 - val_loss: 0.0393 - val_accuracy: 0.9880\n"
          ]
        }
      ]
    },
    {
      "cell_type": "code",
      "source": [
        "def plot_loss_curves(history):\n",
        "    \n",
        "    '''\n",
        "      returns seperate loss curves for training and validation metrics\n",
        "    '''\n",
        "    train_loss=history.history['loss']\n",
        "    val_loss=history.history['val_loss']\n",
        "\n",
        "    train_accuracy=history.history['accuracy']\n",
        "    val_accuracy=history.history['val_accuracy']\n",
        "\n",
        "    epochs=range(1,len(history.history['loss'])+1)\n",
        "    plt.figure(figsize=(20,7))\n",
        "  # plot loss data\n",
        "    plt.subplot(1,2,1)\n",
        "    plt.plot(epochs,train_loss,label=\"training_loss\")\n",
        "    plt.plot(epochs,val_loss,label=\"validation_loss\")\n",
        "    plt.title(\"Loss curves\")\n",
        "    plt.xlabel('epochs')\n",
        "    plt.ylabel('loss')\n",
        "    plt.legend()\n",
        "  # plt.show()\n",
        "\n",
        "  # plot accuracy data\n",
        "    plt.subplot(1,2,2)\n",
        "    plt.plot(epochs,train_accuracy,label=\"training_acc\")\n",
        "    plt.plot(epochs,val_accuracy,label=\"validation_acc\")\n",
        "    plt.title(\"Accuracy curves\")\n",
        "    plt.xlabel('epochs')\n",
        "    plt.ylabel('Accuracy')\n",
        "    plt.legend()"
      ],
      "metadata": {
        "id": "q4-WGeo46H29"
      },
      "execution_count": 30,
      "outputs": []
    },
    {
      "cell_type": "code",
      "source": [
        "plot_loss_curves(history_of_model)"
      ],
      "metadata": {
        "colab": {
          "base_uri": "https://localhost:8080/",
          "height": 421
        },
        "id": "A_W7xDpj7jfM",
        "outputId": "6affa73f-71ae-4f71-dff7-551ed67e5dee"
      },
      "execution_count": 31,
      "outputs": [
        {
          "output_type": "display_data",
          "data": {
            "text/plain": [
              "<Figure size 1440x504 with 2 Axes>"
            ],
            "image/png": "[encoded data removed]"
          },
          "metadata": {
            "needs_background": "light"
          }
        }
      ]
    },
    {
      "cell_type": "code",
      "source": [
        "model.save('models/catsVSdogs.h5')"
      ],
      "metadata": {
        "id": "qg7li8YG7q20"
      },
      "execution_count": 32,
      "outputs": []
    }
  ]
}